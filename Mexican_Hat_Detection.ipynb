{
 "cells": [
  {
   "cell_type": "code",
   "execution_count": null,
   "metadata": {
    "ExecuteTime": {
     "start_time": "2023-05-10T12:17:26.977797Z",
     "end_time": "2023-05-10T12:17:27.081058Z"
    }
   },
   "outputs": [],
   "source": [
    "#Importing required libraries and packages.\n",
    "import numpy as np\n",
    "import pandas as pd\n",
    "import tableprint as tp\n",
    "from scipy.signal import detrend"
   ]
  },
  {
   "cell_type": "markdown",
   "source": [
    "### Defining the Mexican hat function based on:\n",
    "###### http://en.wikipedia.org/wiki/Mexican_hat_wavelet\n",
    "The A coefficient is added to control the amplitude of the Mexican hat."
   ],
   "metadata": {
    "collapsed": false
   }
  },
  {
   "cell_type": "code",
   "execution_count": null,
   "outputs": [],
   "source": [
    "def mexhat(t, A, b):\n",
    "\n",
    "    return (2 * A /(np.sqrt(3 * b) * np.pi ** 0.25)) * (1 - t ** 2 / b ** 2) * np.exp(-t ** 2 / (2 * b ** 2))"
   ],
   "metadata": {
    "collapsed": false,
    "ExecuteTime": {
     "start_time": "2023-05-10T12:33:14.230198Z",
     "end_time": "2023-05-10T12:33:14.340698Z"
    }
   }
  },
  {
   "cell_type": "code",
   "execution_count": null,
   "outputs": [],
   "source": [
    "# Defining a function to find the correlation between wind speed data and Mexican Hat shape\n",
    "def detect_mexican_hat(A_vals, b_vals, wind_speed):\n",
    "\n",
    "    # Create empty arrays to store results\n",
    "    speed_index = []\n",
    "    match_scores = []\n",
    "    bs = []\n",
    "    MH_A = []\n",
    "    amps = []\n",
    "\n",
    "    # Loop over values of A and D\n",
    "    for b in b_vals:\n",
    "\n",
    "        # Apply the filter to the wind speed data in a rolling window\n",
    "        for i in range(int(4*b) + start_time_index, end_time_index - start_time_index - int(4*b) + 1):\n",
    "            wind_speed_window = wind_speed[i +start_time_index - int(4*b):i + start_time_index + int(4*b)]\n",
    "            detrended_window = detrend(wind_speed_window)\n",
    "\n",
    "            for A in A_vals:\n",
    "\n",
    "                # Define a filter to identify Mexican hat events\n",
    "                mexican_hat_filter = mexhat(np.arange(-4*b, 4*b+1), A, b)\n",
    "\n",
    "                # Assuming filtered_window and mexican_hat_filter are two arrays with different shapes\n",
    "                if detrended_window.shape[0] < mexican_hat_filter.shape[0]:\n",
    "                    detrended_window_repeated = np.repeat(detrended_window[-1], mexican_hat_filter.shape[0])\n",
    "                    detrended_window_repeated[:detrended_window.shape[0]] = detrended_window\n",
    "                    mexican_hat_filter_repeated = mexican_hat_filter\n",
    "                else:\n",
    "                    detrended_window_repeated = detrended_window\n",
    "                    mexican_hat_filter_repeated = np.repeat(mexican_hat_filter[-1], detrended_window.shape[0])\n",
    "                    mexican_hat_filter_repeated[:mexican_hat_filter.shape[0]] = mexican_hat_filter\n",
    "\n",
    "                window_match_score = np.corrcoef(detrended_window_repeated, mexican_hat_filter_repeated)[0,1]\n",
    "\n",
    "\n",
    "                max_element = max(detrended_window, key=lambda x: abs(x))\n",
    "                amp = max_element - detrended_window[0]\n",
    "\n",
    "                speed_index.append(i)\n",
    "                match_scores.append(window_match_score)\n",
    "                bs.append(b)\n",
    "                MH_A.append(A)\n",
    "                amps.append(amp)\n",
    "\n",
    "    return speed_index, match_scores, bs, MH_A, amps"
   ],
   "metadata": {
    "collapsed": false
   }
  },
  {
   "cell_type": "code",
   "execution_count": null,
   "outputs": [],
   "source": [
    "# Read wind speed data from CSV file\n",
    "df = pd.read_csv('Sample.csv')\n",
    "df.head()"
   ],
   "metadata": {
    "collapsed": false
   }
  },
  {
   "cell_type": "code",
   "execution_count": null,
   "outputs": [],
   "source": [
    "start_time_index  = 0\n",
    "end_time_index = 10000\n",
    "wind_speed = df['50m']\n",
    "\n",
    "# Plot the wind speed data and the detected Mexican hat events\n",
    "time = np.arange(start_time_index,end_time_index)\n",
    "time_stamp = df['timestamp']\n",
    "\n",
    "# create arrays of values for A and b\n",
    "A_vals = np.arange(1, 30.1, 0.1)\n",
    "b_vals = np.arange(1, 5.1, 0.1)\n",
    "\n",
    "# create meshgrid of A and b values\n",
    "A, b = np.meshgrid(A_vals, b_vals)\n",
    "\n",
    "# apply detect_mexican_hat function to entire arrays\n",
    "speed_index, match_scores, bs, MH_A, amps = detect_mexican_hat(A_vals, b_vals, wind_speed)\n",
    "\n",
    "# flatten the result and convert to list\n",
    "all_mexican_hats = np.column_stack((speed_index, match_scores, Ds, MH_A, amps)).tolist()\n",
    "\n",
    "# sort the list by wind speed in descending order\n",
    "all_mexican_hats.sort(key=lambda tup: tup[0], reverse=False)\n",
    "\n",
    "#Checking the duplicates and only select the one with the highest score\n",
    "optimum_results = []\n",
    "for i in range(len(all_mexican_hats)):\n",
    "    if i == 0 or (all_mexican_hats[i][0] - all_mexican_hats[i-1][0]) > 0:\n",
    "        optimum_results.append(all_mexican_hats[i])\n",
    "    else:\n",
    "        if abs(all_mexican_hats[i][1]) > abs(optimum_results[-1][1]):\n",
    "            optimum_results[-1] = all_mexican_hats[i]\n",
    "\n",
    "\n",
    "optimum_peaks = [tup[0] for tup in optimum_results]\n",
    "peak_time_stamp = [time_stamp[tup[0]] for tup in optimum_results]\n",
    "speed_at_peak = [wind_speed[tup[0]] for tup in optimum_results]\n",
    "optimum_score = [tup[1] for tup in optimum_results]\n",
    "optimum_b = [tup[2] for tup in optimum_results]\n",
    "optimum_A = [tup[3] for tup in optimum_results]\n",
    "optimum_amps = [tup[4] for tup in optimum_results]\n",
    "\n",
    "\n",
    "data = np.column_stack((optimum_peaks, peak_time_stamp, speed_at_peak, optimum_b, optimum_A, optimum_amps , optimum_score))\n",
    "headers = ('Time Index', 'Time', 'Wind Speed (m/s)', 'Optimum b', 'Optimum A', 'MH Amplitude', 'Match Score')"
   ],
   "metadata": {
    "collapsed": false,
    "ExecuteTime": {
     "start_time": "2023-05-10T12:33:17.939791Z",
     "end_time": "2023-05-10T12:33:54.246721Z"
    }
   }
  },
  {
   "cell_type": "code",
   "execution_count": null,
   "metadata": {
    "ExecuteTime": {
     "start_time": "2023-05-10T12:33:55.229385Z",
     "end_time": "2023-05-10T12:33:55.249435Z"
    }
   },
   "outputs": [],
   "source": [
    "table = tp.table(data,headers, width=20)"
   ]
  }
 ],
 "metadata": {
  "kernelspec": {
   "display_name": "Python 3 (ipykernel)",
   "language": "python",
   "name": "python3"
  },
  "language_info": {
   "codemirror_mode": {
    "name": "ipython",
    "version": 3
   },
   "file_extension": ".py",
   "mimetype": "text/x-python",
   "name": "python",
   "nbconvert_exporter": "python",
   "pygments_lexer": "ipython3",
   "version": "3.10.9"
  },
  "vp": {
   "vp_config_version": "1.0.0",
   "vp_menu_width": 273,
   "vp_note_display": false,
   "vp_note_width": 0,
   "vp_position": {
    "width": 278
   },
   "vp_section_display": true,
   "vp_signature": "VisualPython"
  }
 },
 "nbformat": 4,
 "nbformat_minor": 1
}
